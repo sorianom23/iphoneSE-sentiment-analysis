{
 "cells": [
  {
   "cell_type": "code",
   "execution_count": 1,
   "metadata": {},
   "outputs": [],
   "source": [
    "import pandas as pd\n",
    "import numpy as np"
   ]
  },
  {
   "cell_type": "code",
   "execution_count": 2,
   "metadata": {},
   "outputs": [
    {
     "data": {
      "text/html": [
       "<div>\n",
       "<style scoped>\n",
       "    .dataframe tbody tr th:only-of-type {\n",
       "        vertical-align: middle;\n",
       "    }\n",
       "\n",
       "    .dataframe tbody tr th {\n",
       "        vertical-align: top;\n",
       "    }\n",
       "\n",
       "    .dataframe thead th {\n",
       "        text-align: right;\n",
       "    }\n",
       "</style>\n",
       "<table border=\"1\" class=\"dataframe\">\n",
       "  <thead>\n",
       "    <tr style=\"text-align: right;\">\n",
       "      <th></th>\n",
       "      <th>ratings</th>\n",
       "      <th>comment</th>\n",
       "      <th>reviews</th>\n",
       "    </tr>\n",
       "  </thead>\n",
       "  <tbody>\n",
       "    <tr>\n",
       "      <th>0</th>\n",
       "      <td>5</td>\n",
       "      <td>Super!</td>\n",
       "      <td>Great camera for pics and videos Battery life ...</td>\n",
       "    </tr>\n",
       "    <tr>\n",
       "      <th>1</th>\n",
       "      <td>5</td>\n",
       "      <td>Must buy!</td>\n",
       "      <td>Great device. Let me tell the Pros..1. Superb ...</td>\n",
       "    </tr>\n",
       "    <tr>\n",
       "      <th>2</th>\n",
       "      <td>5</td>\n",
       "      <td>Great product</td>\n",
       "      <td>Who all loves older size i.e., 4.7 inch type s...</td>\n",
       "    </tr>\n",
       "    <tr>\n",
       "      <th>3</th>\n",
       "      <td>5</td>\n",
       "      <td>Simply awesome</td>\n",
       "      <td>This iPhone SE is the best phone ever you get....</td>\n",
       "    </tr>\n",
       "    <tr>\n",
       "      <th>4</th>\n",
       "      <td>5</td>\n",
       "      <td>Classy product</td>\n",
       "      <td>This is my second iphone after iphone 4s. I’ve...</td>\n",
       "    </tr>\n",
       "  </tbody>\n",
       "</table>\n",
       "</div>"
      ],
      "text/plain": [
       "   ratings         comment                                            reviews\n",
       "0        5          Super!  Great camera for pics and videos Battery life ...\n",
       "1        5       Must buy!  Great device. Let me tell the Pros..1. Superb ...\n",
       "2        5   Great product  Who all loves older size i.e., 4.7 inch type s...\n",
       "3        5  Simply awesome  This iPhone SE is the best phone ever you get....\n",
       "4        5  Classy product  This is my second iphone after iphone 4s. I’ve..."
      ]
     },
     "execution_count": 2,
     "metadata": {},
     "output_type": "execute_result"
    }
   ],
   "source": [
    "data = pd.read_csv('../data/raw/iphonese_reviews.csv')\n",
    "data = data.rename(columns=str.lower)\n",
    "data.head()"
   ]
  },
  {
   "cell_type": "code",
   "execution_count": 3,
   "metadata": {},
   "outputs": [
    {
     "data": {
      "text/plain": [
       "ratings    0\n",
       "comment    0\n",
       "reviews    0\n",
       "dtype: int64"
      ]
     },
     "execution_count": 3,
     "metadata": {},
     "output_type": "execute_result"
    }
   ],
   "source": [
    "data.isnull().sum()"
   ]
  },
  {
   "cell_type": "code",
   "execution_count": 4,
   "metadata": {},
   "outputs": [
    {
     "name": "stdout",
     "output_type": "stream",
     "text": [
      "<class 'pandas.core.frame.DataFrame'>\n",
      "RangeIndex: 9713 entries, 0 to 9712\n",
      "Data columns (total 3 columns):\n",
      " #   Column   Non-Null Count  Dtype \n",
      "---  ------   --------------  ----- \n",
      " 0   ratings  9713 non-null   int64 \n",
      " 1   comment  9713 non-null   object\n",
      " 2   reviews  9713 non-null   object\n",
      "dtypes: int64(1), object(2)\n",
      "memory usage: 227.8+ KB\n"
     ]
    }
   ],
   "source": [
    "data.info()"
   ]
  },
  {
   "cell_type": "code",
   "execution_count": 5,
   "metadata": {},
   "outputs": [
    {
     "data": {
      "text/plain": [
       "array([5, 4, 3, 1, 2])"
      ]
     },
     "metadata": {},
     "output_type": "display_data"
    }
   ],
   "source": [
    "display(data['ratings'].unique())"
   ]
  },
  {
   "attachments": {},
   "cell_type": "markdown",
   "metadata": {},
   "source": [
    "## Using a pre-trained NLP Model\n",
    "In this case I am going to use the cardiffnlp/twitter-roberta-base-sentiment-latest NLP Model from Hugging Face.\n",
    "More info about this model can be found here: https://huggingface.co/cardiffnlp/twitter-roberta-base-sentiment-latest\n",
    "\n",
    "This is a text classification model that it's going to help to determine the sentiment of the reviews we have."
   ]
  },
  {
   "cell_type": "code",
   "execution_count": 6,
   "metadata": {},
   "outputs": [
    {
     "name": "stderr",
     "output_type": "stream",
     "text": [
      "/Users/mariasoriano/Documents/Documentos - MacBook Pro de Maria/nlp_reviews/env/lib/python3.9/site-packages/tqdm/auto.py:21: TqdmWarning: IProgress not found. Please update jupyter and ipywidgets. See https://ipywidgets.readthedocs.io/en/stable/user_install.html\n",
      "  from .autonotebook import tqdm as notebook_tqdm\n"
     ]
    }
   ],
   "source": [
    "from transformers import AutoTokenizer ## tokenizer class \n",
    "from transformers import AutoModelForSequenceClassification ## generic model class\n",
    "## from_pretrained()\n",
    "from scipy.special import softmax"
   ]
  },
  {
   "cell_type": "code",
   "execution_count": 7,
   "metadata": {},
   "outputs": [
    {
     "name": "stderr",
     "output_type": "stream",
     "text": [
      "Some weights of the model checkpoint at cardiffnlp/twitter-roberta-base-sentiment-latest were not used when initializing RobertaForSequenceClassification: ['roberta.pooler.dense.bias', 'roberta.pooler.dense.weight']\n",
      "- This IS expected if you are initializing RobertaForSequenceClassification from the checkpoint of a model trained on another task or with another architecture (e.g. initializing a BertForSequenceClassification model from a BertForPreTraining model).\n",
      "- This IS NOT expected if you are initializing RobertaForSequenceClassification from the checkpoint of a model that you expect to be exactly identical (initializing a BertForSequenceClassification model from a BertForSequenceClassification model).\n"
     ]
    }
   ],
   "source": [
    "MODEL = f\"cardiffnlp/twitter-roberta-base-sentiment-latest\" # model selected from huggingface. website for more info was provided before\n",
    "tokenizer = AutoTokenizer.from_pretrained(MODEL)\n",
    "model = AutoModelForSequenceClassification.from_pretrained(MODEL)"
   ]
  },
  {
   "cell_type": "code",
   "execution_count": 8,
   "metadata": {},
   "outputs": [
    {
     "data": {
      "text/html": [
       "<div>\n",
       "<style scoped>\n",
       "    .dataframe tbody tr th:only-of-type {\n",
       "        vertical-align: middle;\n",
       "    }\n",
       "\n",
       "    .dataframe tbody tr th {\n",
       "        vertical-align: top;\n",
       "    }\n",
       "\n",
       "    .dataframe thead th {\n",
       "        text-align: right;\n",
       "    }\n",
       "</style>\n",
       "<table border=\"1\" class=\"dataframe\">\n",
       "  <thead>\n",
       "    <tr style=\"text-align: right;\">\n",
       "      <th></th>\n",
       "      <th>ratings</th>\n",
       "      <th>comment</th>\n",
       "      <th>reviews</th>\n",
       "      <th>id</th>\n",
       "    </tr>\n",
       "  </thead>\n",
       "  <tbody>\n",
       "    <tr>\n",
       "      <th>0</th>\n",
       "      <td>5</td>\n",
       "      <td>Super!</td>\n",
       "      <td>Great camera for pics and videos Battery life ...</td>\n",
       "      <td>0</td>\n",
       "    </tr>\n",
       "    <tr>\n",
       "      <th>1</th>\n",
       "      <td>5</td>\n",
       "      <td>Must buy!</td>\n",
       "      <td>Great device. Let me tell the Pros..1. Superb ...</td>\n",
       "      <td>1</td>\n",
       "    </tr>\n",
       "    <tr>\n",
       "      <th>2</th>\n",
       "      <td>5</td>\n",
       "      <td>Great product</td>\n",
       "      <td>Who all loves older size i.e., 4.7 inch type s...</td>\n",
       "      <td>2</td>\n",
       "    </tr>\n",
       "    <tr>\n",
       "      <th>3</th>\n",
       "      <td>5</td>\n",
       "      <td>Simply awesome</td>\n",
       "      <td>This iPhone SE is the best phone ever you get....</td>\n",
       "      <td>3</td>\n",
       "    </tr>\n",
       "    <tr>\n",
       "      <th>4</th>\n",
       "      <td>5</td>\n",
       "      <td>Classy product</td>\n",
       "      <td>This is my second iphone after iphone 4s. I’ve...</td>\n",
       "      <td>4</td>\n",
       "    </tr>\n",
       "    <tr>\n",
       "      <th>...</th>\n",
       "      <td>...</td>\n",
       "      <td>...</td>\n",
       "      <td>...</td>\n",
       "      <td>...</td>\n",
       "    </tr>\n",
       "    <tr>\n",
       "      <th>9708</th>\n",
       "      <td>5</td>\n",
       "      <td>Terrific purchase</td>\n",
       "      <td>Absolutely brilliantREAD MORE</td>\n",
       "      <td>9708</td>\n",
       "    </tr>\n",
       "    <tr>\n",
       "      <th>9709</th>\n",
       "      <td>5</td>\n",
       "      <td>Classy product</td>\n",
       "      <td>Superb phone. This is my 4th iPhone, I feel SE...</td>\n",
       "      <td>9709</td>\n",
       "    </tr>\n",
       "    <tr>\n",
       "      <th>9710</th>\n",
       "      <td>5</td>\n",
       "      <td>Awesome</td>\n",
       "      <td>very niceREAD MORE</td>\n",
       "      <td>9710</td>\n",
       "    </tr>\n",
       "    <tr>\n",
       "      <th>9711</th>\n",
       "      <td>5</td>\n",
       "      <td>Super!</td>\n",
       "      <td>Loving it as of now. Good Product .READ MORE</td>\n",
       "      <td>9711</td>\n",
       "    </tr>\n",
       "    <tr>\n",
       "      <th>9712</th>\n",
       "      <td>5</td>\n",
       "      <td>Terrific purchase</td>\n",
       "      <td>NiceElegant ElectricREAD MORE</td>\n",
       "      <td>9712</td>\n",
       "    </tr>\n",
       "  </tbody>\n",
       "</table>\n",
       "<p>9713 rows × 4 columns</p>\n",
       "</div>"
      ],
      "text/plain": [
       "      ratings            comment  \\\n",
       "0           5             Super!   \n",
       "1           5          Must buy!   \n",
       "2           5      Great product   \n",
       "3           5     Simply awesome   \n",
       "4           5     Classy product   \n",
       "...       ...                ...   \n",
       "9708        5  Terrific purchase   \n",
       "9709        5     Classy product   \n",
       "9710        5            Awesome   \n",
       "9711        5             Super!   \n",
       "9712        5  Terrific purchase   \n",
       "\n",
       "                                                reviews    id  \n",
       "0     Great camera for pics and videos Battery life ...     0  \n",
       "1     Great device. Let me tell the Pros..1. Superb ...     1  \n",
       "2     Who all loves older size i.e., 4.7 inch type s...     2  \n",
       "3     This iPhone SE is the best phone ever you get....     3  \n",
       "4     This is my second iphone after iphone 4s. I’ve...     4  \n",
       "...                                                 ...   ...  \n",
       "9708                      Absolutely brilliantREAD MORE  9708  \n",
       "9709  Superb phone. This is my 4th iPhone, I feel SE...  9709  \n",
       "9710                                 very niceREAD MORE  9710  \n",
       "9711       Loving it as of now. Good Product .READ MORE  9711  \n",
       "9712                      NiceElegant ElectricREAD MORE  9712  \n",
       "\n",
       "[9713 rows x 4 columns]"
      ]
     },
     "execution_count": 8,
     "metadata": {},
     "output_type": "execute_result"
    }
   ],
   "source": [
    "data['id'] = data.index\n",
    "data"
   ]
  },
  {
   "cell_type": "code",
   "execution_count": 9,
   "metadata": {},
   "outputs": [],
   "source": [
    "## need to get rid off READ MORE!!!\n",
    "data['reviews'] = data['reviews'].str.replace('READ MORE', '') "
   ]
  },
  {
   "attachments": {},
   "cell_type": "markdown",
   "metadata": {},
   "source": [
    "### Example test\n",
    "I am going to take the first review in the data, tokenize it and check what the model returns as a sentiment"
   ]
  },
  {
   "cell_type": "code",
   "execution_count": 10,
   "metadata": {},
   "outputs": [
    {
     "name": "stdout",
     "output_type": "stream",
     "text": [
      "Great camera for pics and videos Battery life is good so far with some setting turn of which i never use and when i use i turn those on and i use it in power saving mode all the time so a full day with light gaming of 1hr or more using camera for 1hr or more listening music in my car on youtube and Bluetooth on for couple of hours it gives me full day of battery varing from 4/5 to 6/7 hours sot per dayPerformance is top notch plays every game and every task with easeVery premium phone look...\n",
      "{'input_ids': tensor([[    0, 19065,  2280,    13, 18803,     8,  3424, 21924,   301,    16,\n",
      "           205,    98,   444,    19,   103,  2749,  1004,     9,    61,   939,\n",
      "           393,   304,     8,    77,   939,   304,   939,  1004,   167,    15,\n",
      "             8,   939,   304,    24,    11,   476,  6549,  5745,    70,     5,\n",
      "            86,    98,    10,   455,   183,    19,  1109,  6548,     9,   112,\n",
      "          5039,    50,    55,   634,  2280,    13,   112,  5039,    50,    55,\n",
      "          6288,   930,    11,   127,   512,    15, 44736,     8, 13217,    15,\n",
      "            13,   891,     9,   722,    24,  2029,   162,   455,   183,     9,\n",
      "          3822, 15747,   154,    31,   204,    73,   245,     7,   231,    73,\n",
      "           406,   722,   579,  1242,   228,   183, 44002,    16,   299, 16046,\n",
      "          1974,   358,   177,     8,   358,  3685,    19,  5136, 25101,  4549,\n",
      "          1028,   356,   734,     2]]), 'attention_mask': tensor([[1, 1, 1, 1, 1, 1, 1, 1, 1, 1, 1, 1, 1, 1, 1, 1, 1, 1, 1, 1, 1, 1, 1, 1,\n",
      "         1, 1, 1, 1, 1, 1, 1, 1, 1, 1, 1, 1, 1, 1, 1, 1, 1, 1, 1, 1, 1, 1, 1, 1,\n",
      "         1, 1, 1, 1, 1, 1, 1, 1, 1, 1, 1, 1, 1, 1, 1, 1, 1, 1, 1, 1, 1, 1, 1, 1,\n",
      "         1, 1, 1, 1, 1, 1, 1, 1, 1, 1, 1, 1, 1, 1, 1, 1, 1, 1, 1, 1, 1, 1, 1, 1,\n",
      "         1, 1, 1, 1, 1, 1, 1, 1, 1, 1, 1, 1, 1, 1, 1, 1, 1, 1]])}\n"
     ]
    }
   ],
   "source": [
    "## encoding text\n",
    "example = data['reviews'][0]\n",
    "print(example)\n",
    "encoded_example = tokenizer(example, return_tensors='pt') # it indicates that the output should be in PyTorch format\n",
    "print(encoded_example)"
   ]
  },
  {
   "cell_type": "code",
   "execution_count": 11,
   "metadata": {},
   "outputs": [
    {
     "name": "stdout",
     "output_type": "stream",
     "text": [
      "SequenceClassifierOutput(loss=None, logits=tensor([[-2.4763, -0.1896,  2.7227]], grad_fn=<AddmmBackward0>), hidden_states=None, attentions=None)\n",
      "[-2.476266   -0.18955944  2.7227342 ]\n",
      "____________\n",
      "Great camera for pics and videos Battery life is good so far with some setting turn of which i never use and when i use i turn those on and i use it in power saving mode all the time so a full day with light gaming of 1hr or more using camera for 1hr or more listening music in my car on youtube and Bluetooth on for couple of hours it gives me full day of battery varing from 4/5 to 6/7 hours sot per dayPerformance is top notch plays every game and every task with easeVery premium phone look...\n",
      "[0.00521013 0.0512806  0.9435093 ]\n",
      "____________\n",
      "{'negative': 0.0052101347, 'neutral': 0.051280603, 'positive': 0.9435093}\n"
     ]
    }
   ],
   "source": [
    "output = model(**encoded_example)\n",
    "print(output) # raw, unnormalized predictions produced by the sequence classifier model\n",
    "scores = output[0][0].detach().numpy()\n",
    "## detach() creates a new tensor that shares the same data as the output.logits tensor but is not part of the computation graph\n",
    "## need to check further on this :D\n",
    "## numpy() converts the detached tensor into a NumPy array\n",
    "print(scores)\n",
    "scores = softmax(scores)\n",
    "## using softmax to convert a vector of real numbers into a probability distribution\n",
    "print('____________')\n",
    "print(example)\n",
    "print(scores)\n",
    "## order for scores: negative, neutral, positive\n",
    "print('____________')\n",
    "## storing the results in a dictionary to make it easier to visualize\n",
    "scores_dict = {\n",
    "    'negative' : scores[0],\n",
    "    'neutral' : scores[1],\n",
    "    'positive' : scores[2]\n",
    "}\n",
    "print(scores_dict)"
   ]
  },
  {
   "attachments": {},
   "cell_type": "markdown",
   "metadata": {},
   "source": [
    "### Running the Model in all the data\n",
    "In order to run the model for all the reviews I am going to create a function out of the previus example code. This function takes a review text, tokenizes it and uses the model to return sentiment scores.\n",
    "\n",
    "After it, I am going to create a for loop that will loop through the entired iPhone SE reviews data set and stores the sentiment analysis for each review in a dictionary that later we will convert into a pandas dataframe."
   ]
  },
  {
   "cell_type": "code",
   "execution_count": 12,
   "metadata": {},
   "outputs": [],
   "source": [
    "def polarity_scores_roberta(text):\n",
    "    '''\n",
    "    Calculate polarity scores for sentiment analysis using a pre-trained RoBERTa model.\n",
    "    \n",
    "    This function takes in a piece of text (review) and returns a dictionary of polarity scores for three sentiment categories: negative, neutral, and positive. It utilizes a pre-trained RoBERTa model and a tokenizer for text encoding.\n",
    "\n",
    "    Parameters:\n",
    "        text (str): The input text for sentiment analysis. (Review)\n",
    "    \n",
    "    Returns:\n",
    "        dict: A dictionary containing the polarity scores for negative, neutral, and positive sentiments.\n",
    "    \n",
    "    Example:\n",
    "        text = \"The phone camera is amazing!\"\n",
    "        polarity_scores = polarity_scores_roberta(text)\n",
    "        print(polarity_scores)\n",
    "        # Output: {'negative': 0.05, 'neutral': 0.1, 'positive': 0.85}\n",
    "    \n",
    "    '''\n",
    "    encoded_text = tokenizer(text, return_tensors='pt')\n",
    "    output = model(**encoded_text)\n",
    "    scores = output[0][0].detach().numpy()\n",
    "    scores = softmax(scores)\n",
    "    scores_dict = {\n",
    "    'negative' : scores[0],\n",
    "    'neutral' : scores[1],\n",
    "    'positive' : scores[2]\n",
    "    }\n",
    "    return scores_dict"
   ]
  },
  {
   "cell_type": "code",
   "execution_count": 13,
   "metadata": {},
   "outputs": [
    {
     "name": "stdout",
     "output_type": "stream",
     "text": [
      "huggingface/tokenizers: The current process just got forked, after parallelism has already been used. Disabling parallelism to avoid deadlocks...\n",
      "To disable this warning, you can either:\n",
      "\t- Avoid using `tokenizers` before the fork if possible\n",
      "\t- Explicitly set the environment variable TOKENIZERS_PARALLELISM=(true | false)\n"
     ]
    },
    {
     "name": "stderr",
     "output_type": "stream",
     "text": [
      "100%|██████████| 9713/9713 [10:23<00:00, 15.57it/s]\n"
     ]
    }
   ],
   "source": [
    "from tqdm import tqdm\n",
    "\n",
    "results = {}\n",
    "for i, row in tqdm(data.iterrows(), total=len(data)):\n",
    "    try:\n",
    "        text = row['reviews']\n",
    "        myid = row['id']\n",
    "        model_result = polarity_scores_roberta(text)\n",
    "        model_result_rename = {}\n",
    "        for key, value in model_result.items():\n",
    "            model_result_rename[f'roberta_{key}'] = value\n",
    "            results[myid] = model_result\n",
    "    except RuntimeError:\n",
    "        print(f'Broke for id {myid}')"
   ]
  },
  {
   "attachments": {},
   "cell_type": "markdown",
   "metadata": {},
   "source": [
    "Once the Model has utilized all the data to create a sentiment analysis score for each review I am going to store the results into a pandas dataframe. "
   ]
  },
  {
   "cell_type": "code",
   "execution_count": 17,
   "metadata": {},
   "outputs": [
    {
     "data": {
      "text/html": [
       "<div>\n",
       "<style scoped>\n",
       "    .dataframe tbody tr th:only-of-type {\n",
       "        vertical-align: middle;\n",
       "    }\n",
       "\n",
       "    .dataframe tbody tr th {\n",
       "        vertical-align: top;\n",
       "    }\n",
       "\n",
       "    .dataframe thead th {\n",
       "        text-align: right;\n",
       "    }\n",
       "</style>\n",
       "<table border=\"1\" class=\"dataframe\">\n",
       "  <thead>\n",
       "    <tr style=\"text-align: right;\">\n",
       "      <th></th>\n",
       "      <th>id</th>\n",
       "      <th>comment</th>\n",
       "      <th>reviews</th>\n",
       "      <th>ratings</th>\n",
       "      <th>negative</th>\n",
       "      <th>neutral</th>\n",
       "      <th>positive</th>\n",
       "    </tr>\n",
       "  </thead>\n",
       "  <tbody>\n",
       "    <tr>\n",
       "      <th>0</th>\n",
       "      <td>0</td>\n",
       "      <td>Super!</td>\n",
       "      <td>Great camera for pics and videos Battery life ...</td>\n",
       "      <td>5</td>\n",
       "      <td>0.005210</td>\n",
       "      <td>0.051281</td>\n",
       "      <td>0.943509</td>\n",
       "    </tr>\n",
       "    <tr>\n",
       "      <th>1</th>\n",
       "      <td>1</td>\n",
       "      <td>Must buy!</td>\n",
       "      <td>Great device. Let me tell the Pros..1. Superb ...</td>\n",
       "      <td>5</td>\n",
       "      <td>0.004157</td>\n",
       "      <td>0.017652</td>\n",
       "      <td>0.978190</td>\n",
       "    </tr>\n",
       "    <tr>\n",
       "      <th>2</th>\n",
       "      <td>2</td>\n",
       "      <td>Great product</td>\n",
       "      <td>Who all loves older size i.e., 4.7 inch type s...</td>\n",
       "      <td>5</td>\n",
       "      <td>0.006962</td>\n",
       "      <td>0.043591</td>\n",
       "      <td>0.949447</td>\n",
       "    </tr>\n",
       "    <tr>\n",
       "      <th>3</th>\n",
       "      <td>3</td>\n",
       "      <td>Simply awesome</td>\n",
       "      <td>This iPhone SE is the best phone ever you get....</td>\n",
       "      <td>5</td>\n",
       "      <td>0.005833</td>\n",
       "      <td>0.020936</td>\n",
       "      <td>0.973231</td>\n",
       "    </tr>\n",
       "    <tr>\n",
       "      <th>4</th>\n",
       "      <td>4</td>\n",
       "      <td>Classy product</td>\n",
       "      <td>This is my second iphone after iphone 4s. I’ve...</td>\n",
       "      <td>5</td>\n",
       "      <td>0.013027</td>\n",
       "      <td>0.303008</td>\n",
       "      <td>0.683965</td>\n",
       "    </tr>\n",
       "  </tbody>\n",
       "</table>\n",
       "</div>"
      ],
      "text/plain": [
       "   id         comment                                            reviews  \\\n",
       "0   0          Super!  Great camera for pics and videos Battery life ...   \n",
       "1   1       Must buy!  Great device. Let me tell the Pros..1. Superb ...   \n",
       "2   2   Great product  Who all loves older size i.e., 4.7 inch type s...   \n",
       "3   3  Simply awesome  This iPhone SE is the best phone ever you get....   \n",
       "4   4  Classy product  This is my second iphone after iphone 4s. I’ve...   \n",
       "\n",
       "   ratings  negative   neutral  positive  \n",
       "0        5  0.005210  0.051281  0.943509  \n",
       "1        5  0.004157  0.017652  0.978190  \n",
       "2        5  0.006962  0.043591  0.949447  \n",
       "3        5  0.005833  0.020936  0.973231  \n",
       "4        5  0.013027  0.303008  0.683965  "
      ]
     },
     "execution_count": 17,
     "metadata": {},
     "output_type": "execute_result"
    }
   ],
   "source": [
    "## storing the results dict into a dataframe\n",
    "results_df = pd.DataFrame(results).transpose()\n",
    "## concatenating the original data frame with the new one\n",
    "concat_df = pd.concat([results_df, data], axis=1)\n",
    "## changing the order of the cols\n",
    "cols_order = ['id', 'comment', 'reviews', 'ratings', 'negative', 'neutral', 'positive']\n",
    "results_df = concat_df[cols_order]\n",
    "## final df\n",
    "results_df.head()"
   ]
  },
  {
   "cell_type": "code",
   "execution_count": 18,
   "metadata": {},
   "outputs": [
    {
     "data": {
      "text/html": [
       "<div>\n",
       "<style scoped>\n",
       "    .dataframe tbody tr th:only-of-type {\n",
       "        vertical-align: middle;\n",
       "    }\n",
       "\n",
       "    .dataframe tbody tr th {\n",
       "        vertical-align: top;\n",
       "    }\n",
       "\n",
       "    .dataframe thead th {\n",
       "        text-align: right;\n",
       "    }\n",
       "</style>\n",
       "<table border=\"1\" class=\"dataframe\">\n",
       "  <thead>\n",
       "    <tr style=\"text-align: right;\">\n",
       "      <th></th>\n",
       "      <th>count</th>\n",
       "      <th>mean</th>\n",
       "      <th>std</th>\n",
       "      <th>min</th>\n",
       "      <th>25%</th>\n",
       "      <th>50%</th>\n",
       "      <th>75%</th>\n",
       "      <th>max</th>\n",
       "    </tr>\n",
       "  </thead>\n",
       "  <tbody>\n",
       "    <tr>\n",
       "      <th>id</th>\n",
       "      <td>9713.0</td>\n",
       "      <td>4856.000000</td>\n",
       "      <td>2804.045916</td>\n",
       "      <td>0.000000</td>\n",
       "      <td>2428.000000</td>\n",
       "      <td>4856.000000</td>\n",
       "      <td>7284.000000</td>\n",
       "      <td>9712.000000</td>\n",
       "    </tr>\n",
       "    <tr>\n",
       "      <th>ratings</th>\n",
       "      <td>9713.0</td>\n",
       "      <td>4.456399</td>\n",
       "      <td>1.032911</td>\n",
       "      <td>1.000000</td>\n",
       "      <td>4.000000</td>\n",
       "      <td>5.000000</td>\n",
       "      <td>5.000000</td>\n",
       "      <td>5.000000</td>\n",
       "    </tr>\n",
       "    <tr>\n",
       "      <th>negative</th>\n",
       "      <td>9713.0</td>\n",
       "      <td>0.124351</td>\n",
       "      <td>0.255358</td>\n",
       "      <td>0.001340</td>\n",
       "      <td>0.005352</td>\n",
       "      <td>0.011942</td>\n",
       "      <td>0.052735</td>\n",
       "      <td>0.961831</td>\n",
       "    </tr>\n",
       "    <tr>\n",
       "      <th>neutral</th>\n",
       "      <td>9713.0</td>\n",
       "      <td>0.139024</td>\n",
       "      <td>0.172841</td>\n",
       "      <td>0.005174</td>\n",
       "      <td>0.023033</td>\n",
       "      <td>0.064360</td>\n",
       "      <td>0.189758</td>\n",
       "      <td>0.931637</td>\n",
       "    </tr>\n",
       "    <tr>\n",
       "      <th>positive</th>\n",
       "      <td>9713.0</td>\n",
       "      <td>0.736625</td>\n",
       "      <td>0.336205</td>\n",
       "      <td>0.005376</td>\n",
       "      <td>0.651218</td>\n",
       "      <td>0.919075</td>\n",
       "      <td>0.971244</td>\n",
       "      <td>0.992542</td>\n",
       "    </tr>\n",
       "  </tbody>\n",
       "</table>\n",
       "</div>"
      ],
      "text/plain": [
       "           count         mean          std       min          25%  \\\n",
       "id        9713.0  4856.000000  2804.045916  0.000000  2428.000000   \n",
       "ratings   9713.0     4.456399     1.032911  1.000000     4.000000   \n",
       "negative  9713.0     0.124351     0.255358  0.001340     0.005352   \n",
       "neutral   9713.0     0.139024     0.172841  0.005174     0.023033   \n",
       "positive  9713.0     0.736625     0.336205  0.005376     0.651218   \n",
       "\n",
       "                  50%          75%          max  \n",
       "id        4856.000000  7284.000000  9712.000000  \n",
       "ratings      5.000000     5.000000     5.000000  \n",
       "negative     0.011942     0.052735     0.961831  \n",
       "neutral      0.064360     0.189758     0.931637  \n",
       "positive     0.919075     0.971244     0.992542  "
      ]
     },
     "execution_count": 18,
     "metadata": {},
     "output_type": "execute_result"
    }
   ],
   "source": [
    "results_df.describe().T"
   ]
  },
  {
   "cell_type": "code",
   "execution_count": 19,
   "metadata": {},
   "outputs": [
    {
     "name": "stderr",
     "output_type": "stream",
     "text": [
      "/var/folders/6m/xnrf68g93dj9cnj3lwnc18b00000gn/T/ipykernel_92041/3799181632.py:2: SettingWithCopyWarning: \n",
      "A value is trying to be set on a copy of a slice from a DataFrame.\n",
      "Try using .loc[row_indexer,col_indexer] = value instead\n",
      "\n",
      "See the caveats in the documentation: https://pandas.pydata.org/pandas-docs/stable/user_guide/indexing.html#returning-a-view-versus-a-copy\n",
      "  results_df['review_type'] = 0\n"
     ]
    }
   ],
   "source": [
    "## Creating a new column that specifies if the review is positive or negative\n",
    "results_df['review_type'] = 0\n",
    "\n",
    "results_df.loc[results_df['positive'] > 0.6, 'review_type'] = 1\n",
    "results_df.loc[results_df['negative'] >= 0.5, 'review_type'] = 0"
   ]
  },
  {
   "cell_type": "code",
   "execution_count": 20,
   "metadata": {},
   "outputs": [
    {
     "data": {
      "text/plain": [
       "review_type\n",
       "1    7408\n",
       "0    2305\n",
       "Name: count, dtype: int64"
      ]
     },
     "execution_count": 20,
     "metadata": {},
     "output_type": "execute_result"
    }
   ],
   "source": [
    "results_df['review_type'].value_counts()"
   ]
  },
  {
   "cell_type": "code",
   "execution_count": 21,
   "metadata": {},
   "outputs": [],
   "source": [
    "results_df.to_csv(\"results_df.csv\")"
   ]
  }
 ],
 "metadata": {
  "kernelspec": {
   "display_name": "env",
   "language": "python",
   "name": "python3"
  },
  "language_info": {
   "codemirror_mode": {
    "name": "ipython",
    "version": 3
   },
   "file_extension": ".py",
   "mimetype": "text/x-python",
   "name": "python",
   "nbconvert_exporter": "python",
   "pygments_lexer": "ipython3",
   "version": "3.9.12"
  },
  "orig_nbformat": 4
 },
 "nbformat": 4,
 "nbformat_minor": 2
}
